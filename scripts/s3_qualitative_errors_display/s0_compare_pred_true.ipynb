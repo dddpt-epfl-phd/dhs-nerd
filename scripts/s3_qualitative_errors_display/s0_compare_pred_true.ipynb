{
 "cells": [
  {
   "cell_type": "code",
   "execution_count": null,
   "metadata": {
    "scrolled": true
   },
   "outputs": [],
   "source": [
    "from os import path\n",
    "import sys\n",
    "sys.path.append(\"../../src\")\n",
    "sys.path.append(\"../../scripts\")\n",
    "\n",
    "from nlp_pred_true_comparator import compare_pred_true, clef_hipe_load_conllu_tsv_to_dict"
   ]
  },
  {
   "cell_type": "code",
   "execution_count": null,
   "metadata": {
    "scrolled": true
   },
   "outputs": [],
   "source": [
    "\n",
    "\n",
    "from file_paths import S2_ENTITY_FISHING_EVALUATION_DATA_FOLDER, S2_CLEF_HIPE_PRED_FILE, S2_CLEF_HIPE_TRUE_FILE, localize\n",
    "language = \"fr\""
   ]
  },
  {
   "cell_type": "code",
   "execution_count": null,
   "metadata": {
    "scrolled": true
   },
   "outputs": [],
   "source": [
    "\n",
    "pred_conllu = clef_hipe_load_conllu_tsv_to_dict(localize(S2_CLEF_HIPE_PRED_FILE, language))\n",
    "true_conllu = clef_hipe_load_conllu_tsv_to_dict(localize(S2_CLEF_HIPE_TRUE_FILE, language))"
   ]
  },
  {
   "cell_type": "code",
   "execution_count": null,
   "metadata": {
    "scrolled": true
   },
   "outputs": [],
   "source": [
    "#file = path.join(S2_ENTITY_FISHING_EVALUATION_DATA_FOLDER, f\"dhs-fr-only-dhs-wd-<>-clef-hipe-scorer-conllu.tsv\")\n",
    "\n",
    "#pred_conllu = clef_hipe_load_conllu_tsv_to_dict(file.replace(\"<>\", \"pred\"))\n",
    "#true_conllu = clef_hipe_load_conllu_tsv_to_dict(file.replace(\"<>\", \"true\"))"
   ]
  },
  {
   "cell_type": "code",
   "execution_count": null,
   "metadata": {
    "scrolled": false
   },
   "outputs": [],
   "source": [
    "compare_pred_true(pred_conllu, true_conllu, \"TOKEN\", \"NEL-LIT\", \"MISC\", [\"NE-COARSE-METO\"])"
   ]
  },
  {
   "cell_type": "code",
   "execution_count": null,
   "metadata": {
    "scrolled": true
   },
   "outputs": [],
   "source": []
  },
  {
   "cell_type": "code",
   "execution_count": null,
   "metadata": {
    "scrolled": true
   },
   "outputs": [],
   "source": []
  }
 ],
 "metadata": {
  "interpreter": {
   "hash": "b0ba8461042d62ab06f66d67cc9ca318298fd283d556a98f37e80cf0f5e2bbb1"
  },
  "kernelspec": {
   "display_name": "Python 3",
   "language": "python",
   "name": "python3"
  },
  "language_info": {
   "codemirror_mode": {
    "name": "ipython",
    "version": 3
   },
   "file_extension": ".py",
   "mimetype": "text/x-python",
   "name": "python",
   "nbconvert_exporter": "python",
   "pygments_lexer": "ipython3",
   "version": "3.8.10"
  }
 },
 "nbformat": 4,
 "nbformat_minor": 2
}
