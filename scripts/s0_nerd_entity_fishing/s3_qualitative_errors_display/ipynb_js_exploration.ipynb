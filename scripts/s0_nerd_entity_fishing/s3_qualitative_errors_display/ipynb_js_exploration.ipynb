{
 "cells": [
  {
   "cell_type": "code",
   "execution_count": null,
   "metadata": {},
   "outputs": [],
   "source": [
    "\n",
    "from IPython.display import HTML, Javascript, display\n"
   ]
  },
  {
   "cell_type": "code",
   "execution_count": null,
   "metadata": {},
   "outputs": [],
   "source": [
    "\n",
    "display(HTML(\"\"\"\n",
    "<div>\n",
    "    <h1>THIS IS A TITLE</h1>\n",
    "    <p>And this is a paragraph; and if all this works it's freakin' awesome</p>\n",
    "    <p id='i-want-to-be-free'>And this paragraph wants to be filled up by javascript</p>\n",
    "    <script>\n",
    "        let my_paragraph = document.getElementById(\"i-want-to-be-free\")\n",
    "        my_paragraph.innerHTML = \"I WANT TO BE FREEEEEE! ...But js only works occasionally from an IPython.display.HTML() call...\"\n",
    "    </script>\n",
    "</div>\n",
    "\"\"\"))"
   ]
  },
  {
   "cell_type": "code",
   "execution_count": null,
   "metadata": {},
   "outputs": [],
   "source": [
    "\n",
    "display(HTML(\"\"\"\n",
    "<div>\n",
    "    <h1>THIS IS A TITLE</h1>\n",
    "    <p>And this is a paragraph; and if all this works it's freakin' awesome</p>\n",
    "    <p id='i-want-to-be-free'>And this paragraph wants to be filled up by javascript</p>\n",
    "    <script>\n",
    "        let my_paragraph = document.getElementById(\"i-want-to-be-free\")\n",
    "        my_paragraph.innerHTML = \"I WANT TO BE FREEEEEE! ...But js only works occasionally from an IPython.display.HTMLLL() call... or does it works on the first one only\"\n",
    "    </script>\n",
    "</div>\n",
    "\"\"\"))"
   ]
  },
  {
   "cell_type": "code",
   "execution_count": null,
   "metadata": {},
   "outputs": [],
   "source": [
    "display(Javascript(\"\"\"\n",
    "element.append(\"APPENDING TEXT TO ELEMENT\")\n",
    "\"\"\"))"
   ]
  },
  {
   "cell_type": "code",
   "execution_count": null,
   "metadata": {},
   "outputs": [],
   "source": [
    "\n",
    "HTML(\"\"\"\n",
    "<div>\n",
    "    <p class='classyy'>And this classed paragraph wants to be filled up by javascript to be classier</p>\n",
    "    <script>\n",
    "\n",
    "        $(document).ready( ()=>{\n",
    "            my_paragraphs = document.getElementsByClassName(\"classyy\")\n",
    "            my_paragraphs.forEach(p=>{\n",
    "                p.innerHTML = \"Classy baby.\"\n",
    "            })\n",
    "        })\n",
    "        //alert(\"huhuhu\") // silly but works ;-p\n",
    "    </script>\n",
    "</div>\n",
    "\"\"\")"
   ]
  },
  {
   "cell_type": "code",
   "execution_count": null,
   "metadata": {},
   "outputs": [],
   "source": [
    "display(HTML(\"\"\"\n",
    "<p id=\"demo\">A Paragraph.</p>\n",
    "<button id=\"something\">Try it</button>\n",
    "\"\"\"))\n",
    "js = \"\"\"\n",
    "$(document).ready(\n",
    "function() {\n",
    "    $(\"#something\").click(function() {\n",
    "        $('#demo').text(\"Changed text\");\n",
    "        $('#something').text('Change button');\n",
    "        });\n",
    "    });\n",
    "\"\"\"\n",
    "js = Javascript(js)\n",
    "display(js)"
   ]
  },
  {
   "cell_type": "code",
   "execution_count": null,
   "metadata": {},
   "outputs": [],
   "source": [
    "%%javascript\n",
    "\n",
    "let my_var = 32\n",
    "let my_var_2 = 42\n",
    "\n",
    "element.append(\"<h4> adding two JS variables:\"+(my_var+my_var_2)+\"</h4>\")"
   ]
  },
  {
   "cell_type": "code",
   "execution_count": null,
   "metadata": {},
   "outputs": [],
   "source": [
    "display(HTML(\"\"\"\n",
    "<p id=\"demo2\">A Paragraph.</p>\n",
    "<button id=\"something2\">Try it</button>\n",
    "\"\"\"))"
   ]
  },
  {
   "cell_type": "code",
   "execution_count": null,
   "metadata": {},
   "outputs": [],
   "source": [
    "\n",
    "js = \"\"\"\n",
    "$(document).ready(\n",
    "function() {\n",
    "    $(\"#something2\").click(function() {\n",
    "        $('#demo2').text(\"Changed text\");\n",
    "        $('#something2').text('Change button');\n",
    "        });\n",
    "    });\n",
    "\"\"\"\n",
    "js = Javascript(js)\n",
    "display(js)"
   ]
  },
  {
   "cell_type": "code",
   "execution_count": null,
   "metadata": {},
   "outputs": [],
   "source": []
  }
 ],
 "metadata": {
  "interpreter": {
   "hash": "b0ba8461042d62ab06f66d67cc9ca318298fd283d556a98f37e80cf0f5e2bbb1"
  },
  "kernelspec": {
   "display_name": "Python 3",
   "language": "python",
   "name": "python3"
  },
  "language_info": {
   "codemirror_mode": {
    "name": "ipython",
    "version": 3
   },
   "file_extension": ".py",
   "mimetype": "text/x-python",
   "name": "python",
   "nbconvert_exporter": "python",
   "pygments_lexer": "ipython3",
   "version": "3.8.10"
  }
 },
 "nbformat": 4,
 "nbformat_minor": 2
}
