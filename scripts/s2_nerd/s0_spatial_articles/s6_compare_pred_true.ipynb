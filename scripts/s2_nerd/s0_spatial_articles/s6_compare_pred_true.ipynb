{
 "cells": [
  {
   "cell_type": "code",
   "execution_count": 1,
   "id": "c9933c66",
   "metadata": {},
   "outputs": [
    {
     "name": "stderr",
     "output_type": "stream",
     "text": [
      "Tokenizing toponyms: 100%|███████████████████████████████████████████████████████████████████████████████████████████████████████████████████████████████████████████████████████████████████████████████████████████████████████████████████| 4414/4414 [00:20<00:00, 217.59it/s]\n"
     ]
    },
    {
     "name": "stdout",
     "output_type": "stream",
     "text": [
      "[0, 31, 45, 76]\n",
      "picklepath ../../../data/polities_to_extract/toponyms_spans_dtf.pkl exists, restoring...\n",
      "total nb of identified toponyms: 3295\n",
      "nb of identified statusword+toponyms: 1467\n",
      "nb of single toponyms: 1828\n",
      "check: nb of single+sw toponyms: 3295\n",
      "[Meierskappel, \n",
      ", Comm]\n",
      "0\n",
      "11\n",
      "[78, 13]\n",
      "[942, 18]\n",
      "reintegrating invalid_sequences_dtf:\n",
      "-----\n",
      "Duplicates removed: 77\n",
      "toponym_tokens_spans removed as already present in other dtfs: 234\n",
      "631 entries reintegrated, from the 942 present in original dtf_to_reintegrate\n",
      "reintegrating non_analysable_sequences_dtf:\n",
      "-----\n",
      "Duplicates removed: 0\n",
      "toponym_tokens_spans removed as already present in other dtfs: 0\n",
      "78 entries reintegrated, from the 78 present in original dtf_to_reintegrate\n"
     ]
    },
    {
     "name": "stderr",
     "output_type": "stream",
     "text": [
      "Linking entities by HDS tag: 100%|██████████████████████████████████████████████████████████████████████████████████████████████████████████████████████████████████████████████████████████████████████████████████████████████████████████████| 758/758 [01:17<00:00,  9.82it/s]\n"
     ]
    },
    {
     "name": "stdout",
     "output_type": "stream",
     "text": [
      "Number of unlinked statusword-toponym sequences: 126\n",
      "Only statusword-toponym columns: ['sequence_analysis', 'statusword', 'sequence_toponym', 'sequence', 'sequence_structure', 'sequence_structure_str', 'possible_polities_min_rank'] \n",
      "\n",
      "Only single toponym columns: [] \n",
      "\n",
      "common columns: ['hds_article_id', 'toponym', 'geoidentifier', 'article_title', 'polities_ids', 'nb_polities', 'tokenized_toponym', 'trimmed_normalized_tokenized_toponym', 'loose_normalized_tokenized_toponym', 'strict_normalized_tokenized_toponym', 'toponym_tokens_spans', 'toponym_tokens_sequence', 'possible_polities', 'linked_polity_id', 'linked_hds_tag', 'linked_toponym'] \n",
      "\n",
      "Verification that we have the same nb of entries in toponyms_dtf and all_identified_polities:\n",
      "- nb entries in toponyms_dtf:  3295\n",
      "- nb entries in all_identified_polities:  3295\n",
      "- nb of duplicate entries in all_identified_polities:  0\n",
      "False\n",
      "[758, 1467]\n",
      "[False, False]\n"
     ]
    }
   ],
   "source": [
    "import unicodedata\n",
    "from cassis import load_typesystem, Cas\n",
    "\n",
    "import sys\n",
    "sys.path.append(\"../../../src\")\n",
    "sys.path.append(\"../../../scripts\")\n",
    "\n",
    "from inception_fishing import Annotation\n",
    "from inception_fishing import spacy as spacyIO\n",
    "\n",
    "from ipynb.fs.full. s3_rule_based_annotation import *"
   ]
  },
  {
   "cell_type": "code",
   "execution_count": 2,
   "id": "df6cf9c1",
   "metadata": {},
   "outputs": [],
   "source": [
    "\n",
    "for i, row in sampled_articles_dtf.iterrows():\n",
    "    spacyIO.document_add_tokens_as_annotations(\n",
    "        row.document,\n",
    "        row.tokens\n",
    "    )"
   ]
  },
  {
   "cell_type": "code",
   "execution_count": null,
   "id": "143155bb",
   "metadata": {},
   "outputs": [],
   "source": []
  }
 ],
 "metadata": {
  "kernelspec": {
   "display_name": "Python 3",
   "language": "python",
   "name": "python3"
  },
  "language_info": {
   "codemirror_mode": {
    "name": "ipython",
    "version": 3
   },
   "file_extension": ".py",
   "mimetype": "text/x-python",
   "name": "python",
   "nbconvert_exporter": "python",
   "pygments_lexer": "ipython3",
   "version": "3.8.10"
  }
 },
 "nbformat": 4,
 "nbformat_minor": 5
}
