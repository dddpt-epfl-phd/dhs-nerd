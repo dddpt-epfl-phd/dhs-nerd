{
 "cells": [
  {
   "cell_type": "code",
   "execution_count": null,
   "metadata": {
    "scrolled": true
   },
   "outputs": [],
   "source": [
    "from os import path\n",
    "import sys\n",
    "sys.path.append(\"../../src\")\n",
    "sys.path.append(\"../../scripts\")\n",
    "\n",
    "from nlp_pred_true_comparator import compare_pred_true, clef_hipe_load_conllu_tsv_to_dict"
   ]
  },
  {
   "cell_type": "code",
   "execution_count": null,
   "metadata": {
    "scrolled": true
   },
   "outputs": [],
   "source": [
    "\n",
    "\n",
    "from data_file_paths import S2_ENTITY_FISHING_EVALUATION_DATA_FOLDER, S2_CLEF_HIPE_PRED_FILE, S2_CLEF_HIPE_TRUE_FILE, localize\n",
    "language = \"de\""
   ]
  },
  {
   "cell_type": "code",
   "execution_count": null,
   "metadata": {},
   "outputs": [],
   "source": [
    "pred_filepath = localize(S2_CLEF_HIPE_PRED_FILE, language)\n",
    "true_filepath = localize(S2_CLEF_HIPE_TRUE_FILE, language)\n",
    "\n",
    "#file = path.join(S2_ENTITY_FISHING_EVALUATION_DATA_FOLDER, \"annotations-2-11\",f\"dhs-fr-<>-clef-hipe-scorer-conllu.tsv\")\n",
    "\n",
    "#pred_filepath = file.replace(\"<>\", \"pred\")\n",
    "#true_filepath = file.replace(\"<>\", \"true\")\n",
    "(pred_filepath, true_filepath)"
   ]
  },
  {
   "cell_type": "code",
   "execution_count": null,
   "metadata": {
    "scrolled": true
   },
   "outputs": [],
   "source": [
    "\n",
    "\n",
    "\n",
    "pred_conllu = clef_hipe_load_conllu_tsv_to_dict(pred_filepath)\n",
    "true_conllu = clef_hipe_load_conllu_tsv_to_dict(true_filepath)"
   ]
  },
  {
   "cell_type": "code",
   "execution_count": null,
   "metadata": {
    "scrolled": true
   },
   "outputs": [],
   "source": [
    "#\n",
    "#pred_conllu = clef_hipe_load_conllu_tsv_to_dict(file.replace(\"<>\", \"pred\"))\n",
    "#true_conllu = clef_hipe_load_conllu_tsv_to_dict(file.replace(\"<>\", \"true\"))"
   ]
  },
  {
   "cell_type": "code",
   "execution_count": null,
   "metadata": {
    "scrolled": false
   },
   "outputs": [],
   "source": [
    "compare_pred_true(pred_conllu, true_conllu, \"TOKEN\", \"NEL-LIT\", \"MISC\", [\"NE-COARSE-METO\"])"
   ]
  },
  {
   "cell_type": "code",
   "execution_count": null,
   "metadata": {
    "scrolled": true
   },
   "outputs": [],
   "source": [
    "(len(pred_conllu), len(true_conllu))"
   ]
  },
  {
   "cell_type": "code",
   "execution_count": null,
   "metadata": {
    "scrolled": true
   },
   "outputs": [],
   "source": []
  },
  {
   "cell_type": "code",
   "execution_count": null,
   "metadata": {
    "scrolled": false
   },
   "outputs": [],
   "source": [
    "pred_text = \" \".join([p[\"TOKEN\"] for p in pred_conllu])\n",
    "#pred_text"
   ]
  },
  {
   "cell_type": "code",
   "execution_count": null,
   "metadata": {
    "scrolled": false
   },
   "outputs": [],
   "source": [
    "true_text = \" \".join([p[\"TOKEN\"] for p in true_conllu])\n",
    "#true_text"
   ]
  },
  {
   "cell_type": "code",
   "execution_count": null,
   "metadata": {
    "scrolled": true
   },
   "outputs": [],
   "source": [
    "comp = \"\".join([c if c==pred_text[i] else \"X\" for i,c in enumerate(true_text)])\n",
    "#comp"
   ]
  },
  {
   "cell_type": "code",
   "execution_count": null,
   "metadata": {
    "scrolled": true
   },
   "outputs": [],
   "source": []
  },
  {
   "cell_type": "code",
   "execution_count": null,
   "metadata": {
    "scrolled": true
   },
   "outputs": [],
   "source": []
  },
  {
   "cell_type": "code",
   "execution_count": null,
   "metadata": {
    "scrolled": false
   },
   "outputs": [],
   "source": []
  }
 ],
 "metadata": {
  "interpreter": {
   "hash": "b0ba8461042d62ab06f66d67cc9ca318298fd283d556a98f37e80cf0f5e2bbb1"
  },
  "kernelspec": {
   "display_name": "Python 3",
   "language": "python",
   "name": "python3"
  },
  "language_info": {
   "codemirror_mode": {
    "name": "ipython",
    "version": 3
   },
   "file_extension": ".py",
   "mimetype": "text/x-python",
   "name": "python",
   "nbconvert_exporter": "python",
   "pygments_lexer": "ipython3",
   "version": "3.8.10"
  }
 },
 "nbformat": 4,
 "nbformat_minor": 2
}
